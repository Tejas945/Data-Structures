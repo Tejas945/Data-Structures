{
 "cells": [
  {
   "cell_type": "code",
   "execution_count": 57,
   "metadata": {},
   "outputs": [],
   "source": [
    "def quick_sort(arr):\n",
    "    \n",
    "    quick_sort_help(arr,0,len(arr)-1)\n",
    "\n",
    "def quick_sort_help(arr,first,last):\n",
    "    \n",
    "    if first<last:\n",
    "        \n",
    "\n",
    "        splitpoint = partition(arr,first,last)\n",
    "        \n",
    "        print('splitpoint',arr[splitpoint])\n",
    "\n",
    "        quick_sort_help(arr,first,splitpoint-1) \n",
    "        \n",
    "        quick_sort_help(arr,splitpoint+1,last)  \n",
    "        print('first=',arr[first],'last=',arr[last])\n",
    "\n",
    "def partition(arr,first,last):\n",
    "    \n",
    "    pivotvalue = arr[first]\n",
    "\n",
    "    leftmark = first+1\n",
    "    rightmark = last\n",
    "\n",
    "    done = False\n",
    "    while not done:\n",
    "\n",
    "        while leftmark <= rightmark and arr[leftmark] <= pivotvalue:\n",
    "            leftmark = leftmark + 1\n",
    "            #print('leftmark=', arr[leftmark])\n",
    "\n",
    "        while arr[rightmark] >= pivotvalue and rightmark >= leftmark:\n",
    "            rightmark = rightmark -1\n",
    "            #print('Rightmark=', arr[rightmark])\n",
    "\n",
    "        if rightmark < leftmark:\n",
    "            done = True\n",
    "        else:\n",
    "            temp = arr[leftmark]\n",
    "            arr[leftmark] = arr[rightmark]\n",
    "            arr[rightmark] = temp\n",
    "            #print('else',temp)\n",
    "            print(arr)\n",
    "            print('====================================')\n",
    "\n",
    "    temp = arr[first]\n",
    "    arr[first] = arr[rightmark]\n",
    "    arr[rightmark] = temp\n",
    "    print(arr)\n",
    "\n",
    "    return rightmark"
   ]
  },
  {
   "cell_type": "code",
   "execution_count": 58,
   "metadata": {},
   "outputs": [
    {
     "name": "stdout",
     "output_type": "stream",
     "text": [
      "[54, 26, 20, 17, 77, 31, 44, 55, 93]\n",
      "====================================\n",
      "[54, 26, 20, 17, 44, 31, 77, 55, 93]\n",
      "====================================\n",
      "[31, 26, 20, 17, 44, 54, 77, 55, 93]\n",
      "splitpoint 54\n",
      "[17, 26, 20, 31, 44, 54, 77, 55, 93]\n",
      "splitpoint 31\n",
      "[17, 26, 20, 31, 44, 54, 77, 55, 93]\n",
      "splitpoint 17\n",
      "[17, 20, 26, 31, 44, 54, 77, 55, 93]\n",
      "splitpoint 26\n",
      "first= 20 last= 26\n",
      "first= 17 last= 26\n",
      "first= 17 last= 44\n",
      "[17, 20, 26, 31, 44, 54, 55, 77, 93]\n",
      "splitpoint 77\n",
      "first= 55 last= 93\n",
      "first= 17 last= 93\n"
     ]
    },
    {
     "data": {
      "text/plain": [
       "[17, 20, 26, 31, 44, 54, 55, 77, 93]"
      ]
     },
     "execution_count": 58,
     "metadata": {},
     "output_type": "execute_result"
    }
   ],
   "source": [
    "arr = [54,26,93,17,77,31,44,55,20]\n",
    "quick_sort(arr)\n",
    "arr"
   ]
  },
  {
   "cell_type": "code",
   "execution_count": 67,
   "metadata": {},
   "outputs": [],
   "source": [
    " #Leetcode 34\n",
    "    def searchRange(nums, target):\n",
    "            b=[]\n",
    "            i=0\n",
    "            while i < len(nums):\n",
    "                if nums[i]== target:\n",
    "                    b.append(i)\n",
    "                    i+=1\n",
    "                    \n",
    "                else:\n",
    "                    i+=1\n",
    "                    \n",
    "            \n",
    "                    \n",
    "            \n",
    "            if not b:\n",
    "                return [-1,-1]\n",
    "            \n",
    "            else:\n",
    "                return[b[0], b[-1]]"
   ]
  },
  {
   "cell_type": "code",
   "execution_count": 68,
   "metadata": {},
   "outputs": [
    {
     "data": {
      "text/plain": [
       "[3, 4]"
      ]
     },
     "execution_count": 68,
     "metadata": {},
     "output_type": "execute_result"
    }
   ],
   "source": [
    "nums=[5,7,7,8,8,10]\n",
    "target=8\n",
    "searchRange(nums, target)"
   ]
  },
  {
   "cell_type": "code",
   "execution_count": null,
   "metadata": {},
   "outputs": [],
   "source": []
  }
 ],
 "metadata": {
  "kernelspec": {
   "display_name": "Python 3",
   "language": "python",
   "name": "python3"
  },
  "language_info": {
   "codemirror_mode": {
    "name": "ipython",
    "version": 3
   },
   "file_extension": ".py",
   "mimetype": "text/x-python",
   "name": "python",
   "nbconvert_exporter": "python",
   "pygments_lexer": "ipython3",
   "version": "3.7.4"
  }
 },
 "nbformat": 4,
 "nbformat_minor": 2
}
